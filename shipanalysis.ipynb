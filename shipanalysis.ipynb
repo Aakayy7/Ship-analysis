{
 "cells": [
  {
   "cell_type": "markdown",
   "id": "0da9bec2",
   "metadata": {},
   "source": [
    "# Ship Analysis"
   ]
  },
  {
   "cell_type": "code",
   "execution_count": 2,
   "id": "b53dbc9a",
   "metadata": {},
   "outputs": [
    {
     "name": "stderr",
     "output_type": "stream",
     "text": [
      "C:\\anaconda\\lib\\site-packages\\scipy\\__init__.py:146: UserWarning: A NumPy version >=1.16.5 and <1.23.0 is required for this version of SciPy (detected version 1.24.3\n",
      "  warnings.warn(f\"A NumPy version >={np_minversion} and <{np_maxversion}\"\n"
     ]
    }
   ],
   "source": [
    "\n",
    "import numpy as np\n",
    "import pandas as pd\n",
    "\n",
    "import matplotlib.pyplot as plt\n",
    "import seaborn as sns"
   ]
  },
  {
   "cell_type": "code",
   "execution_count": 3,
   "id": "c8f16c0d",
   "metadata": {},
   "outputs": [
    {
     "data": {
      "text/html": [
       "<div>\n",
       "<style scoped>\n",
       "    .dataframe tbody tr th:only-of-type {\n",
       "        vertical-align: middle;\n",
       "    }\n",
       "\n",
       "    .dataframe tbody tr th {\n",
       "        vertical-align: top;\n",
       "    }\n",
       "\n",
       "    .dataframe thead th {\n",
       "        text-align: right;\n",
       "    }\n",
       "</style>\n",
       "<table border=\"1\" class=\"dataframe\">\n",
       "  <thead>\n",
       "    <tr style=\"text-align: right;\">\n",
       "      <th></th>\n",
       "      <th>Company_Name</th>\n",
       "      <th>ship_name</th>\n",
       "      <th>built_year</th>\n",
       "      <th>gt</th>\n",
       "      <th>dwt</th>\n",
       "      <th>length</th>\n",
       "      <th>width</th>\n",
       "    </tr>\n",
       "  </thead>\n",
       "  <tbody>\n",
       "    <tr>\n",
       "      <th>0</th>\n",
       "      <td>PRELUDE</td>\n",
       "      <td>Offshore Support Vessel</td>\n",
       "      <td>2017</td>\n",
       "      <td>499167</td>\n",
       "      <td>394330</td>\n",
       "      <td>489</td>\n",
       "      <td>74</td>\n",
       "    </tr>\n",
       "    <tr>\n",
       "      <th>1</th>\n",
       "      <td>MSC LORETO</td>\n",
       "      <td>Container Ship</td>\n",
       "      <td>2023</td>\n",
       "      <td>236184</td>\n",
       "      <td>240000</td>\n",
       "      <td>399</td>\n",
       "      <td>60</td>\n",
       "    </tr>\n",
       "    <tr>\n",
       "      <th>2</th>\n",
       "      <td>MSC FEBE</td>\n",
       "      <td>Container Ship</td>\n",
       "      <td>2019</td>\n",
       "      <td>232618</td>\n",
       "      <td>228149</td>\n",
       "      <td>400</td>\n",
       "      <td>62</td>\n",
       "    </tr>\n",
       "    <tr>\n",
       "      <th>3</th>\n",
       "      <td>MSC ARINA</td>\n",
       "      <td>Container Ship</td>\n",
       "      <td>2019</td>\n",
       "      <td>228741</td>\n",
       "      <td>228111</td>\n",
       "      <td>400</td>\n",
       "      <td>61</td>\n",
       "    </tr>\n",
       "    <tr>\n",
       "      <th>4</th>\n",
       "      <td>EVER GOVERN</td>\n",
       "      <td>Container Ship</td>\n",
       "      <td>2019</td>\n",
       "      <td>219688</td>\n",
       "      <td>198937</td>\n",
       "      <td>400</td>\n",
       "      <td>59</td>\n",
       "    </tr>\n",
       "    <tr>\n",
       "      <th>...</th>\n",
       "      <td>...</td>\n",
       "      <td>...</td>\n",
       "      <td>...</td>\n",
       "      <td>...</td>\n",
       "      <td>...</td>\n",
       "      <td>...</td>\n",
       "      <td>...</td>\n",
       "    </tr>\n",
       "    <tr>\n",
       "      <th>195</th>\n",
       "      <td>HONORSHIP</td>\n",
       "      <td>Bulk Carrier</td>\n",
       "      <td>2010</td>\n",
       "      <td>90423</td>\n",
       "      <td>180242</td>\n",
       "      <td>289</td>\n",
       "      <td>45</td>\n",
       "    </tr>\n",
       "    <tr>\n",
       "      <th>196</th>\n",
       "      <td>MARAN TRANSPORTER</td>\n",
       "      <td>Bulk Carrier</td>\n",
       "      <td>2010</td>\n",
       "      <td>90136</td>\n",
       "      <td>179719</td>\n",
       "      <td>292</td>\n",
       "      <td>45</td>\n",
       "    </tr>\n",
       "    <tr>\n",
       "      <th>197</th>\n",
       "      <td>MARAN ASTRONOMER</td>\n",
       "      <td>Bulk Carrier</td>\n",
       "      <td>2012</td>\n",
       "      <td>90104</td>\n",
       "      <td>179719</td>\n",
       "      <td>292</td>\n",
       "      <td>45</td>\n",
       "    </tr>\n",
       "    <tr>\n",
       "      <th>198</th>\n",
       "      <td>WINNING LOYALTY</td>\n",
       "      <td>Bulk Carrier</td>\n",
       "      <td>2004</td>\n",
       "      <td>90091</td>\n",
       "      <td>180310</td>\n",
       "      <td>289</td>\n",
       "      <td>45</td>\n",
       "    </tr>\n",
       "    <tr>\n",
       "      <th>199</th>\n",
       "      <td>BRAVE SAILOR</td>\n",
       "      <td>Bulk Carrier</td>\n",
       "      <td>2011</td>\n",
       "      <td>89991</td>\n",
       "      <td>176283</td>\n",
       "      <td>292</td>\n",
       "      <td>45</td>\n",
       "    </tr>\n",
       "  </tbody>\n",
       "</table>\n",
       "<p>200 rows × 7 columns</p>\n",
       "</div>"
      ],
      "text/plain": [
       "          Company_Name                ship_name  built_year      gt     dwt  \\\n",
       "0              PRELUDE  Offshore Support Vessel        2017  499167  394330   \n",
       "1           MSC LORETO           Container Ship        2023  236184  240000   \n",
       "2             MSC FEBE           Container Ship        2019  232618  228149   \n",
       "3            MSC ARINA           Container Ship        2019  228741  228111   \n",
       "4          EVER GOVERN           Container Ship        2019  219688  198937   \n",
       "..                 ...                      ...         ...     ...     ...   \n",
       "195          HONORSHIP             Bulk Carrier        2010   90423  180242   \n",
       "196  MARAN TRANSPORTER             Bulk Carrier        2010   90136  179719   \n",
       "197   MARAN ASTRONOMER             Bulk Carrier        2012   90104  179719   \n",
       "198    WINNING LOYALTY             Bulk Carrier        2004   90091  180310   \n",
       "199       BRAVE SAILOR             Bulk Carrier        2011   89991  176283   \n",
       "\n",
       "     length  width  \n",
       "0       489     74  \n",
       "1       399     60  \n",
       "2       400     62  \n",
       "3       400     61  \n",
       "4       400     59  \n",
       "..      ...    ...  \n",
       "195     289     45  \n",
       "196     292     45  \n",
       "197     292     45  \n",
       "198     289     45  \n",
       "199     292     45  \n",
       "\n",
       "[200 rows x 7 columns]"
      ]
     },
     "execution_count": 3,
     "metadata": {},
     "output_type": "execute_result"
    }
   ],
   "source": [
    "df = pd.read_csv(\"Cleaned_ships_data.csv\")\n",
    "df"
   ]
  },
  {
   "cell_type": "code",
   "execution_count": 4,
   "id": "9ddeca82",
   "metadata": {},
   "outputs": [
    {
     "data": {
      "text/plain": [
       "Company_Name    0\n",
       "ship_name       0\n",
       "built_year      0\n",
       "gt              0\n",
       "dwt             0\n",
       "length          0\n",
       "width           0\n",
       "dtype: int64"
      ]
     },
     "execution_count": 4,
     "metadata": {},
     "output_type": "execute_result"
    }
   ],
   "source": [
    "df.isnull().sum()"
   ]
  },
  {
   "cell_type": "code",
   "execution_count": 6,
   "id": "b9cbd4b9",
   "metadata": {},
   "outputs": [
    {
     "data": {
      "text/plain": [
       "array([2017, 2023, 2019, 2018, 2013, 2015, 2014, 2016, 2021, 2011, 2008,\n",
       "       2009, 1996, 2010, 2012, 2005, 2004, 1994, 1993, 1999, 2007, 2001,\n",
       "       2022, 1992, 2000, 2020, 1995, 2003, 1976, 1997, 2002, 2006, 1990],\n",
       "      dtype=int64)"
      ]
     },
     "execution_count": 6,
     "metadata": {},
     "output_type": "execute_result"
    }
   ],
   "source": [
    "df[\"built_year\"].unique()"
   ]
  },
  {
   "cell_type": "markdown",
   "id": "31b4c4b2",
   "metadata": {},
   "source": [
    "# The built year of the ships and its gt ()"
   ]
  },
  {
   "cell_type": "code",
   "execution_count": 7,
   "id": "99842e00",
   "metadata": {},
   "outputs": [
    {
     "data": {
      "text/html": [
       "<div>\n",
       "<style scoped>\n",
       "    .dataframe tbody tr th:only-of-type {\n",
       "        vertical-align: middle;\n",
       "    }\n",
       "\n",
       "    .dataframe tbody tr th {\n",
       "        vertical-align: top;\n",
       "    }\n",
       "\n",
       "    .dataframe thead th {\n",
       "        text-align: right;\n",
       "    }\n",
       "</style>\n",
       "<table border=\"1\" class=\"dataframe\">\n",
       "  <thead>\n",
       "    <tr style=\"text-align: right;\">\n",
       "      <th></th>\n",
       "      <th>index</th>\n",
       "      <th>Company_Name</th>\n",
       "      <th>ship_name</th>\n",
       "      <th>built_year</th>\n",
       "      <th>gt</th>\n",
       "      <th>dwt</th>\n",
       "      <th>length</th>\n",
       "      <th>width</th>\n",
       "    </tr>\n",
       "  </thead>\n",
       "  <tbody>\n",
       "    <tr>\n",
       "      <th>0</th>\n",
       "      <td>80</td>\n",
       "      <td>PETROBRAS-47</td>\n",
       "      <td>Offshore Support Vessel</td>\n",
       "      <td>1976</td>\n",
       "      <td>131242</td>\n",
       "      <td>260349</td>\n",
       "      <td>344</td>\n",
       "      <td>52</td>\n",
       "    </tr>\n",
       "    <tr>\n",
       "      <th>1</th>\n",
       "      <td>194</td>\n",
       "      <td>BAO CHANG HAI</td>\n",
       "      <td>Bulk Carrier</td>\n",
       "      <td>1990</td>\n",
       "      <td>90633</td>\n",
       "      <td>173329</td>\n",
       "      <td>290</td>\n",
       "      <td>46</td>\n",
       "    </tr>\n",
       "    <tr>\n",
       "      <th>2</th>\n",
       "      <td>53</td>\n",
       "      <td>BING N</td>\n",
       "      <td>Bulk Carrier</td>\n",
       "      <td>1992</td>\n",
       "      <td>154030</td>\n",
       "      <td>322941</td>\n",
       "      <td>339</td>\n",
       "      <td>55</td>\n",
       "    </tr>\n",
       "    <tr>\n",
       "      <th>3</th>\n",
       "      <td>48</td>\n",
       "      <td>STELLAR UNICORN</td>\n",
       "      <td>Bulk Carrier</td>\n",
       "      <td>1993</td>\n",
       "      <td>156352</td>\n",
       "      <td>279022</td>\n",
       "      <td>330</td>\n",
       "      <td>56</td>\n",
       "    </tr>\n",
       "    <tr>\n",
       "      <th>4</th>\n",
       "      <td>33</td>\n",
       "      <td>SPLENDOR</td>\n",
       "      <td>Crude Oil Tanker</td>\n",
       "      <td>1993</td>\n",
       "      <td>160299</td>\n",
       "      <td>306474</td>\n",
       "      <td>331</td>\n",
       "      <td>58</td>\n",
       "    </tr>\n",
       "    <tr>\n",
       "      <th>...</th>\n",
       "      <td>...</td>\n",
       "      <td>...</td>\n",
       "      <td>...</td>\n",
       "      <td>...</td>\n",
       "      <td>...</td>\n",
       "      <td>...</td>\n",
       "      <td>...</td>\n",
       "      <td>...</td>\n",
       "    </tr>\n",
       "    <tr>\n",
       "      <th>195</th>\n",
       "      <td>61</td>\n",
       "      <td>CMA CGM ARCTIC</td>\n",
       "      <td>Container Ship</td>\n",
       "      <td>2022</td>\n",
       "      <td>150844</td>\n",
       "      <td>159614</td>\n",
       "      <td>366</td>\n",
       "      <td>51</td>\n",
       "    </tr>\n",
       "    <tr>\n",
       "      <th>196</th>\n",
       "      <td>86</td>\n",
       "      <td>ELISA AQUILA</td>\n",
       "      <td>LNG Tanker</td>\n",
       "      <td>2022</td>\n",
       "      <td>118753</td>\n",
       "      <td>95131</td>\n",
       "      <td>297</td>\n",
       "      <td>47</td>\n",
       "    </tr>\n",
       "    <tr>\n",
       "      <th>197</th>\n",
       "      <td>50</td>\n",
       "      <td>YIANNIS LATSIS</td>\n",
       "      <td>Crude Oil Tanker</td>\n",
       "      <td>2022</td>\n",
       "      <td>154792</td>\n",
       "      <td>299999</td>\n",
       "      <td>330</td>\n",
       "      <td>60</td>\n",
       "    </tr>\n",
       "    <tr>\n",
       "      <th>198</th>\n",
       "      <td>49</td>\n",
       "      <td>SEAWAYS ENTERPRISE</td>\n",
       "      <td>Crude Oil Tanker</td>\n",
       "      <td>2023</td>\n",
       "      <td>156186</td>\n",
       "      <td>300000</td>\n",
       "      <td>336</td>\n",
       "      <td>60</td>\n",
       "    </tr>\n",
       "    <tr>\n",
       "      <th>199</th>\n",
       "      <td>1</td>\n",
       "      <td>MSC LORETO</td>\n",
       "      <td>Container Ship</td>\n",
       "      <td>2023</td>\n",
       "      <td>236184</td>\n",
       "      <td>240000</td>\n",
       "      <td>399</td>\n",
       "      <td>60</td>\n",
       "    </tr>\n",
       "  </tbody>\n",
       "</table>\n",
       "<p>200 rows × 8 columns</p>\n",
       "</div>"
      ],
      "text/plain": [
       "     index        Company_Name                ship_name  built_year      gt  \\\n",
       "0       80        PETROBRAS-47  Offshore Support Vessel        1976  131242   \n",
       "1      194       BAO CHANG HAI             Bulk Carrier        1990   90633   \n",
       "2       53              BING N             Bulk Carrier        1992  154030   \n",
       "3       48     STELLAR UNICORN             Bulk Carrier        1993  156352   \n",
       "4       33            SPLENDOR         Crude Oil Tanker        1993  160299   \n",
       "..     ...                 ...                      ...         ...     ...   \n",
       "195     61      CMA CGM ARCTIC           Container Ship        2022  150844   \n",
       "196     86        ELISA AQUILA               LNG Tanker        2022  118753   \n",
       "197     50      YIANNIS LATSIS         Crude Oil Tanker        2022  154792   \n",
       "198     49  SEAWAYS ENTERPRISE         Crude Oil Tanker        2023  156186   \n",
       "199      1          MSC LORETO           Container Ship        2023  236184   \n",
       "\n",
       "        dwt  length  width  \n",
       "0    260349     344     52  \n",
       "1    173329     290     46  \n",
       "2    322941     339     55  \n",
       "3    279022     330     56  \n",
       "4    306474     331     58  \n",
       "..      ...     ...    ...  \n",
       "195  159614     366     51  \n",
       "196   95131     297     47  \n",
       "197  299999     330     60  \n",
       "198  300000     336     60  \n",
       "199  240000     399     60  \n",
       "\n",
       "[200 rows x 8 columns]"
      ]
     },
     "execution_count": 7,
     "metadata": {},
     "output_type": "execute_result"
    }
   ],
   "source": [
    "sorted_df = df.sort_values(\"built_year\").reset_index()\n",
    "\n",
    "sorted_df"
   ]
  },
  {
   "cell_type": "code",
   "execution_count": 10,
   "id": "3e21ea83",
   "metadata": {},
   "outputs": [
    {
     "data": {
      "text/plain": [
       "<AxesSubplot:xlabel='built_year', ylabel='gt'>"
      ]
     },
     "execution_count": 10,
     "metadata": {},
     "output_type": "execute_result"
    },
    {
     "data": {
      "image/png": "[encoded data removed]",
      "text/plain": [
       "<Figure size 432x288 with 1 Axes>"
      ]
     },
     "metadata": {
      "needs_background": "light"
     },
     "output_type": "display_data"
    }
   ],
   "source": [
    "sns.scatterplot(x = \"built_year\" , y = \"gt\", data = sorted_df)"
   ]
  },
  {
   "cell_type": "markdown",
   "id": "22d6b27c",
   "metadata": {},
   "source": [
    "# Relationship Between gt and dwt"
   ]
  },
  {
   "cell_type": "code",
   "execution_count": 11,
   "id": "594e27f9",
   "metadata": {},
   "outputs": [
    {
     "data": {
      "text/plain": [
       "<AxesSubplot:xlabel='gt', ylabel='dwt'>"
      ]
     },
     "execution_count": 11,
     "metadata": {},
     "output_type": "execute_result"
    },
    {
     "data": {
      "image/png": "[encoded data removed]",
      "text/plain": [
       "<Figure size 432x288 with 1 Axes>"
      ]
     },
     "metadata": {
      "needs_background": "light"
     },
     "output_type": "display_data"
    }
   ],
   "source": [
    "sns.scatterplot(x = \"gt\" , y = \"dwt\", data = sorted_df)"
   ]
  },
  {
   "cell_type": "code",
   "execution_count": 12,
   "id": "4f93fbe1",
   "metadata": {},
   "outputs": [
    {
     "data": {
      "text/plain": [
       "<AxesSubplot:xlabel='length', ylabel='dwt'>"
      ]
     },
     "execution_count": 12,
     "metadata": {},
     "output_type": "execute_result"
    },
    {
     "data": {
      "image/png": "[encoded data removed]",
      "text/plain": [
       "<Figure size 432x288 with 1 Axes>"
      ]
     },
     "metadata": {
      "needs_background": "light"
     },
     "output_type": "display_data"
    }
   ],
   "source": [
    "sns.scatterplot(x = \"length\" , y = \"dwt\", data = sorted_df)"
   ]
  },
  {
   "cell_type": "code",
   "execution_count": 13,
   "id": "3732096b",
   "metadata": {},
   "outputs": [
    {
     "data": {
      "text/plain": [
       "<AxesSubplot:xlabel='width', ylabel='dwt'>"
      ]
     },
     "execution_count": 13,
     "metadata": {},
     "output_type": "execute_result"
    },
    {
     "data": {
      "image/png": "[encoded data removed]",
      "text/plain": [
       "<Figure size 432x288 with 1 Axes>"
      ]
     },
     "metadata": {
      "needs_background": "light"
     },
     "output_type": "display_data"
    }
   ],
   "source": [
    "sns.scatterplot(x = \"width\" , y = \"dwt\", data = sorted_df)"
   ]
  },
  {
   "cell_type": "code",
   "execution_count": 14,
   "id": "b8bb539e",
   "metadata": {},
   "outputs": [
    {
     "data": {
      "text/plain": [
       "<AxesSubplot:xlabel='gt', ylabel='dwt'>"
      ]
     },
     "execution_count": 14,
     "metadata": {},
     "output_type": "execute_result"
    },
    {
     "data": {
      "image/png": "[encoded data removed]",
      "text/plain": [
       "<Figure size 432x288 with 1 Axes>"
      ]
     },
     "metadata": {
      "needs_background": "light"
     },
     "output_type": "display_data"
    }
   ],
   "source": [
    "sns.scatterplot(data = sorted_df , x = \"gt\" , y = \"dwt\", hue = \"built_year\" )"
   ]
  },
  {
   "cell_type": "code",
   "execution_count": null,
   "id": "fb05dee4",
   "metadata": {},
   "outputs": [],
   "source": []
  }
 ],
 "metadata": {
  "kernelspec": {
   "display_name": "Python 3 (ipykernel)",
   "language": "python",
   "name": "python3"
  },
  "language_info": {
   "codemirror_mode": {
    "name": "ipython",
    "version": 3
   },
   "file_extension": ".py",
   "mimetype": "text/x-python",
   "name": "python",
   "nbconvert_exporter": "python",
   "pygments_lexer": "ipython3",
   "version": "3.9.12"
  }
 },
 "nbformat": 4,
 "nbformat_minor": 5
}
